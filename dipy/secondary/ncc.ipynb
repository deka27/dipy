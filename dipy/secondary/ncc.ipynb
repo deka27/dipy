{
 "cells": [
  {
   "cell_type": "code",
   "execution_count": null,
   "metadata": {},
   "outputs": [],
   "source": [
    "import numpy as np\n",
    "import scipy.ndimage as ndimage\n",
    "from scipy import optimize\n",
    "import matplotlib.pyplot as plt\n",
    "import cv2"
   ]
  },
  {
   "cell_type": "code",
   "execution_count": null,
   "metadata": {},
   "outputs": [],
   "source": [
    "def ncc(arr1, arr2):\n",
    "    \"\"\" Compute the normalized cross-correlation metric \"\"\"\n",
    "    x = min(arr1.shape[0], arr2.shape[0])\n",
    "    y = min(arr1.shape[1], arr2.shape[1])\n",
    "\n",
    "    arr1_cropped = arr1[:x, :y]\n",
    "    arr2_cropped = arr2[:x, :y]\n",
    "\n",
    "    arr1_mean = arr1_cropped.mean()\n",
    "    arr2_mean = arr2_cropped.mean()\n",
    "\n",
    "    numerator = np.sum((arr1_cropped - arr1_mean) * (arr2_cropped - arr2_mean))\n",
    "    denominator = np.sqrt(np.sum((arr1_cropped - arr1_mean) ** 2) * np.sum((arr2_cropped - arr2_mean) ** 2))\n",
    "\n",
    "    return numerator / denominator"
   ]
  },
  {
   "cell_type": "code",
   "execution_count": null,
   "metadata": {},
   "outputs": [],
   "source": [
    "def apply_rotation(angle, img):\n",
    "    # Compute the center of the image\n",
    "    center = (img.shape[1] // 2, img.shape[0] // 2)\n",
    "\n",
    "    # Rotate the image around its center\n",
    "    rotated_img = ndimage.rotate(img, angle, reshape=False, order=1, mode='constant', cval=0.0)\n",
    "\n",
    "    return rotated_img\n"
   ]
  },
  {
   "cell_type": "code",
   "execution_count": null,
   "metadata": {},
   "outputs": [],
   "source": [
    "def cost_ncc(param, reference_image, target_image):\n",
    "    transformed = apply_rotation(param[0], target_image)\n",
    "    cost = -ncc(reference_image, transformed)  # Negate NCC because we want to maximize it\n",
    "    print(\"Param\", param, \"cost\", cost)\n",
    "    return cost\n"
   ]
  },
  {
   "cell_type": "code",
   "execution_count": null,
   "metadata": {},
   "outputs": [],
   "source": [
    "# Load images using OpenCV\n",
    "static = cv2.imread('brain.png', cv2.IMREAD_GRAYSCALE)\n",
    "moving = cv2.imread('distorted.png', cv2.IMREAD_GRAYSCALE)\n",
    "\n",
    "# Ensure the images are loaded properly\n",
    "if static is None or moving is None:\n",
    "    raise ValueError(\"One or both images could not be loaded.\")"
   ]
  },
  {
   "cell_type": "code",
   "execution_count": null,
   "metadata": {},
   "outputs": [],
   "source": [
    "initial = [0]  # Initial guess for the rotation angle in degrees\n",
    "\n",
    "def trying_params(params):\n",
    "    \"\"\" Callback function \"\"\"\n",
    "    print(\"trying_params: \" + str(params))\n",
    "\n",
    "best_params = optimize.fmin_powell(cost_ncc, initial, args=(static, moving), callback=trying_params)\n",
    "best_angle = best_params[0]  # Extract the scalar angle value\n",
    "print(\"Best params\", best_angle)"
   ]
  },
  {
   "cell_type": "code",
   "execution_count": null,
   "metadata": {},
   "outputs": [],
   "source": [
    "# Apply the best rotation angle to the moving image\n",
    "transformed1 = apply_rotation(best_angle, moving)\n",
    "\n",
    "# Function to plot three images side by side\n",
    "def plot_three_images(img1, img2, img3, title1='Static Image', title2='Original Moving Image', title3='Transformed Image'):\n",
    "    plt.figure(figsize=(18, 6))\n",
    "    plt.subplot(1, 3, 1)\n",
    "    plt.imshow(img1, cmap='gray')\n",
    "    plt.title(title1)\n",
    "    plt.axis('off')\n",
    "    plt.subplot(1, 3, 2)\n",
    "    plt.imshow(img2, cmap='gray')\n",
    "    plt.title(title2)\n",
    "    plt.axis('off')\n",
    "    plt.subplot(1, 3, 3)\n",
    "    plt.imshow(img3, cmap='gray')\n",
    "    plt.title(title3)\n",
    "    plt.axis('off')\n",
    "    plt.show()\n",
    "\n",
    "# Plot the static, original moving, and transformed images\n",
    "plot_three_images(static, moving, transformed1, title1='Static Image', title2='Original Moving Image', title3='Transformed Image')\n"
   ]
  }
 ],
 "metadata": {
  "kernelspec": {
   "display_name": "dipy-new",
   "language": "python",
   "name": "python3"
  },
  "language_info": {
   "codemirror_mode": {
    "name": "ipython",
    "version": 3
   },
   "file_extension": ".py",
   "mimetype": "text/x-python",
   "name": "python",
   "nbconvert_exporter": "python",
   "pygments_lexer": "ipython3",
   "version": "3.10.14"
  }
 },
 "nbformat": 4,
 "nbformat_minor": 2
}
