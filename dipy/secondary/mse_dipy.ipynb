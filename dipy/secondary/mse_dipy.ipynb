{
 "cells": [
  {
   "cell_type": "code",
   "execution_count": null,
   "metadata": {},
   "outputs": [],
   "source": [
    "import numpy as np\n",
    "import matplotlib.pyplot as plt\n",
    "from dipy.align.imaffine import AffineRegistration\n",
    "from dipy.align.transforms import TranslationTransform2D, RigidTransform2D, AffineTransform2D\n",
    "from dipy.align.metrics import SSDMetric\n",
    "import imageio"
   ]
  },
  {
   "cell_type": "code",
   "execution_count": null,
   "metadata": {},
   "outputs": [],
   "source": [
    "# Load the static (fixed) image\n",
    "static_image = imageio.imread('brain.png', mode='L').astype(np.float32)\n",
    "\n",
    "# Load the moving image\n",
    "moving_image = imageio.imread('distorted.png', mode='L').astype(np.float32)\n",
    "\n",
    "# Ensure both images have the same shape\n",
    "if static_image.shape != moving_image.shape:\n",
    "    raise ValueError(\"The static and moving images must have the same dimensions.\")"
   ]
  },
  {
   "cell_type": "code",
   "execution_count": null,
   "metadata": {},
   "outputs": [],
   "source": [
    "def mse(arr1, arr2):\n",
    "    \"\"\"\n",
    "    Compute the mean squared error between two arrays.\n",
    "    \n",
    "    Args:\n",
    "    arr1: First input array.\n",
    "    arr2: Second input array.\n",
    "    \n",
    "    Returns:\n",
    "    Mean squared error.\n",
    "    \"\"\"\n",
    "    # Ensure the arrays are of the same shape\n",
    "    x = min(arr1.shape[0], arr2.shape[0])\n",
    "    y = min(arr1.shape[1], arr2.shape[1])\n",
    "    \n",
    "    arr1_cropped = arr1[:x, :y]\n",
    "    arr2_cropped = arr2[:x, :y]\n",
    "    \n",
    "    # Compute the mean squared error\n",
    "    mse_value = np.mean((arr1_cropped - arr2_cropped) ** 2)\n",
    "    \n",
    "    return mse_value"
   ]
  },
  {
   "cell_type": "code",
   "execution_count": null,
   "metadata": {},
   "outputs": [],
   "source": [
    "def plot_three_images(img1, img2, img3, title1='Static Image', title2='Original Moving Image', title3='Transformed Image'):\n",
    "    plt.figure(figsize=(18, 6))\n",
    "    plt.subplot(1, 3, 1)\n",
    "    plt.imshow(img1, cmap='gray')\n",
    "    plt.title(title1)\n",
    "    plt.axis('off')\n",
    "    plt.subplot(1, 3, 2)\n",
    "    plt.imshow(img2, cmap='gray')\n",
    "    plt.title(title2)\n",
    "    plt.axis('off')\n",
    "    plt.subplot(1, 3, 3)\n",
    "    plt.imshow(img3, cmap='gray')\n",
    "    plt.title(title3)\n",
    "    plt.axis('off')\n",
    "    plt.show()"
   ]
  },
  {
   "cell_type": "code",
   "execution_count": null,
   "metadata": {},
   "outputs": [],
   "source": [
    "# Define the registration parameters\n",
    "level_iters = [1000, 100, 10]  # Number of iterations at each resolution level\n",
    "sigmas = [3.0, 1.0, 0.0]  # Gaussian smoothing at each level\n",
    "factors = [4, 2, 1]  # Pyramid decimation factors\n",
    "\n",
    "# Initialize the affine registration object with the SSDMetric\n",
    "metric = SSDMetric(2)  # 2 for 2D images\n",
    "affreg = AffineRegistration(metric=metric, level_iters=level_iters, sigmas=sigmas, factors=factors)\n"
   ]
  },
  {
   "cell_type": "code",
   "execution_count": null,
   "metadata": {},
   "outputs": [],
   "source": [
    "# Perform rigid registration first\n",
    "rigid = RigidTransform2D()\n",
    "rigid_map = affreg.optimize(static_image, moving_image, rigid, params0=None)\n",
    "\n",
    "# Then perform affine registration\n",
    "affine = AffineTransform2D()\n",
    "affine_map = affreg.optimize(static_image, moving_image, affine, params0=None, starting_affine=rigid_map.affine)\n",
    "\n",
    "# Get the transformed image\n",
    "transformed_image = affine_map.transform(moving_image)"
   ]
  },
  {
   "cell_type": "code",
   "execution_count": null,
   "metadata": {},
   "outputs": [],
   "source": [
    "# Print affine map matrix for debugging\n",
    "print(\"Affine Transformation Matrix:\")\n",
    "print(affine_map.affine)\n",
    "\n",
    "# Compute the MSE between the original moving and static images\n",
    "initial_mse = mse(static_image, moving_image)\n",
    "print(f\"Initial Mean Squared Error: {initial_mse}\")\n",
    "\n",
    "# Compute the MSE between the static image and the transformed image\n",
    "final_mse = mse(static_image, transformed_image)\n",
    "print(f\"Mean Squared Error after registration: {final_mse}\")"
   ]
  },
  {
   "cell_type": "code",
   "execution_count": null,
   "metadata": {},
   "outputs": [],
   "source": [
    "# Plot the static, original moving, and transformed images\n",
    "plot_three_images(static_image, moving_image, transformed_image, \n",
    "                  title1='Static Image', title2='Original Moving Image', title3='Transformed Image')"
   ]
  }
 ],
 "metadata": {
  "kernelspec": {
   "display_name": "dipy-new",
   "language": "python",
   "name": "python3"
  },
  "language_info": {
   "codemirror_mode": {
    "name": "ipython",
    "version": 3
   },
   "file_extension": ".py",
   "mimetype": "text/x-python",
   "name": "python",
   "nbconvert_exporter": "python",
   "pygments_lexer": "ipython3",
   "version": "3.10.14"
  }
 },
 "nbformat": 4,
 "nbformat_minor": 2
}
